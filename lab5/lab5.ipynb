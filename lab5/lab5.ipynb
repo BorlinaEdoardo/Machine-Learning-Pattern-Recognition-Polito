{
 "cells": [
  {
   "cell_type": "markdown",
   "id": "bc5ff1d5",
   "metadata": {},
   "source": [
    "# Laboratory 5 - Multivariate Gauessian Density\n",
    "In this laboratory we will focus on computing probability densities and ML estimates.\n",
    "\n",
    "The Multivariate Gaussian (MVG) density is defined as:\n",
    "\n",
    "$$\\displaystyle \\mathcal{N}(\\mathbf{x} | \\boldsymbol{\\mu}, \\boldsymbol{\\Sigma}) = \\frac{1}{(2\\pi)^{\\frac{M}{2}} |\\boldsymbol{\\Sigma}|^{\\frac{1}{2}}} \\exp\\left( -\\frac{1}{2} (\\mathbf{x} - \\boldsymbol{\\mu})^\\top \\boldsymbol{\\Sigma}^{-1} (\\mathbf{x} - \\boldsymbol{\\mu}) \\right)$$\n",
    "\n",
    "where M is the size of the feature vector x, and |Σ| is the determinant of Σ.\n",
    "To avoid numerical issues due to exponentiation of large numbers, in many practical cases it’s more\n",
    "convenient to work with the logarithm of the density\n",
    "\n",
    "$$\n",
    "\\log \\mathcal{N}(\\mathbf{x} | \\boldsymbol{\\mu}, \\boldsymbol{\\Sigma}) = -\\frac{M}{2} \\log 2\\pi - \\frac{1}{2} \\log |\\boldsymbol{\\Sigma}| - \\frac{1}{2} (\\mathbf{x} - \\boldsymbol{\\mu})^\\top \\boldsymbol{\\Sigma}^{-1} (\\mathbf{x} - \\boldsymbol{\\mu})\n",
    "$$\n",
    "\n",
    "Write a function to compute the log-density $\\texttt{logpdf\\_GAU\\_ND(x, mu, C)}$ for a sample $\\texttt{x}$.\n",
    " $\\texttt{mu}$ should be a numpy $\\texttt{array}$ of shape $\\texttt{(M, 1)}$, whereas $\\texttt{C}$ is a numpy $\\texttt{array}$ of shape $\\texttt{(M, M)}$ representing the covariance matrix $\\boldsymbol{\\Sigma}$.\n"
   ]
  },
  {
   "cell_type": "code",
   "execution_count": 1,
   "id": "42f364a5",
   "metadata": {},
   "outputs": [],
   "source": [
    "# Includes:\n",
    "import numpy as np\n",
    "import matplotlib.pyplot as plt\n",
    "import scipy.linalg as linalg\n",
    "import sklearn as sk\n",
    "\n",
    "# utility functions for the project\n",
    "def vcol(v):\n",
    "    return np.array(v).reshape(v.size, 1)\n",
    "\n",
    "def vrow(v):\n",
    "    return np.array(v).reshape(1, v.size)"
   ]
  },
  {
   "cell_type": "code",
   "execution_count": 2,
   "id": "8b66ea84",
   "metadata": {},
   "outputs": [],
   "source": [
    "def logpdf_GAU_ND(x, mu, C):\n",
    "    M = C.shape[0] # == C.shape[1] == mu.shape[0] == x.shape[0]\n",
    "    N = x.shape[1]\n",
    "    Y = np.zeros(N)  # Initialize Y with size N\n",
    "    for i in range(N):\n",
    "        (sign, log_det_C) = np.linalg.slogdet(C)\n",
    "        x_i = vcol(x[:,i])\n",
    "        Y[i] = (-M/2*np.log(2*np.pi) - 0.5*log_det_C - 0.5*(x_i-mu).T@linalg.inv(C)@(x_i-mu)).item()\n",
    "    return vcol(Y)"
   ]
  },
  {
   "cell_type": "markdown",
   "id": "8c41ec59",
   "metadata": {},
   "source": [
    "In the following we assume that logpdf_GAU_ND(X, mu, C) takes as input a data matrix X and returns\n",
    "a 1-D numpy array of log-densities Y ."
   ]
  },
  {
   "cell_type": "code",
   "execution_count": 3,
   "id": "600d6184",
   "metadata": {},
   "outputs": [
    {
     "data": {
      "image/png": "[encoded data removed]",
      "text/plain": [
       "<Figure size 640x480 with 1 Axes>"
      ]
     },
     "metadata": {},
     "output_type": "display_data"
    }
   ],
   "source": [
    "# visualization example\n",
    "\n",
    "plt.figure()\n",
    "XPlot = np.linspace(-8, 12, 1000)\n",
    "m = np.ones((1,1)) * 1.0\n",
    "C = np.ones((1,1)) * 2.0\n",
    "plt.plot(XPlot.ravel(), np.exp(logpdf_GAU_ND(vrow(XPlot), m, C)))\n",
    "plt.show()"
   ]
  },
  {
   "cell_type": "code",
   "execution_count": 4,
   "id": "dba47fd3",
   "metadata": {},
   "outputs": [
    {
     "name": "stdout",
     "output_type": "stream",
     "text": [
      "0.0\n"
     ]
    }
   ],
   "source": [
    "# Validation test\n",
    "pdfSol = np.load('./llGAU.npy')\n",
    "\n",
    "pdfGau = logpdf_GAU_ND(vrow(XPlot), m, C)\n",
    "print(np.abs(vcol(pdfSol) - pdfGau).max())"
   ]
  },
  {
   "cell_type": "code",
   "execution_count": 5,
   "id": "248b144a",
   "metadata": {},
   "outputs": [
    {
     "name": "stdout",
     "output_type": "stream",
     "text": [
      "8.881784197001252e-16\n"
     ]
    }
   ],
   "source": [
    "XND = np.load('./XND.npy')\n",
    "mu = np.load('./muND.npy')\n",
    "C = np.load('./CND.npy')\n",
    "pdfSol = np.load('./llND.npy')\n",
    "pdfGau = logpdf_GAU_ND(XND, mu, C)\n",
    "print(np.abs(vcol(pdfSol) - pdfGau).max())"
   ]
  },
  {
   "cell_type": "markdown",
   "id": "f6928783",
   "metadata": {},
   "source": [
    "## Maximum Likelyhood Estimation (ML)"
   ]
  },
  {
   "cell_type": "code",
   "execution_count": 6,
   "id": "71d7dee4",
   "metadata": {},
   "outputs": [],
   "source": [
    "# The ML estimate for the parameters of a Multivariate Gaussian distribution correspond to the empirical\n",
    "# dataset mean and the empirical dataset covariance\n",
    "\n",
    "# we use XND\n",
    "XND = np.load('./XND.npy')\n",
    "mu = vcol(XND.mean(1))\n",
    "N = XND.shape[1]\n",
    "C = ((XND-mu)@(XND-mu).T)/N"
   ]
  },
  {
   "cell_type": "code",
   "execution_count": 7,
   "id": "f1cb9712",
   "metadata": {},
   "outputs": [
    {
     "data": {
      "text/plain": [
       "array([[-0.07187197],\n",
       "       [ 0.05979594]])"
      ]
     },
     "execution_count": 7,
     "metadata": {},
     "output_type": "execute_result"
    }
   ],
   "source": [
    "mu"
   ]
  },
  {
   "cell_type": "code",
   "execution_count": 8,
   "id": "6fafad59",
   "metadata": {},
   "outputs": [
    {
     "data": {
      "text/plain": [
       "array([[0.94590166, 0.09313534],\n",
       "       [0.09313534, 0.8229693 ]])"
      ]
     },
     "execution_count": 8,
     "metadata": {},
     "output_type": "execute_result"
    }
   ],
   "source": [
    "C"
   ]
  },
  {
   "cell_type": "code",
   "execution_count": 9,
   "id": "51e59214",
   "metadata": {},
   "outputs": [],
   "source": [
    "def loglikelyhood(x, mu, C):\n",
    "    Y = logpdf_GAU_ND(x, mu, C)\n",
    "    return Y.sum()"
   ]
  },
  {
   "cell_type": "code",
   "execution_count": 10,
   "id": "206ca6a8",
   "metadata": {},
   "outputs": [
    {
     "name": "stdout",
     "output_type": "stream",
     "text": [
      "-270.70478023795044\n"
     ]
    }
   ],
   "source": [
    "ll = loglikelyhood(XND, mu, C)\n",
    "print(ll)"
   ]
  },
  {
   "cell_type": "code",
   "execution_count": 18,
   "id": "b3f2977f",
   "metadata": {},
   "outputs": [
    {
     "name": "stdout",
     "output_type": "stream",
     "text": [
      "mu_ML: 1.9539156996043356, C_ML[[6.09542485]]\n"
     ]
    },
    {
     "data": {
      "image/png": "[encoded data removed]",
      "text/plain": [
       "<Figure size 640x480 with 1 Axes>"
      ]
     },
     "metadata": {},
     "output_type": "display_data"
    }
   ],
   "source": [
    "X1D = np.load('./X1D.npy')\n",
    "mu_ML = X1D.mean()\n",
    "C_ML = ((vrow(X1D)-mu_ML)@(vrow(X1D)-mu_ML).T)/X1D.shape[1]\n",
    "\n",
    "print(f\"mu_ML: {mu_ML}, C_ML{C_ML}\" )\n",
    "\n",
    "plt.figure()\n",
    "plt.hist(X1D.ravel(), bins=50, density=True)\n",
    "XPlot = np.linspace(-8, 12, 1000)\n",
    "plt.plot(XPlot.ravel(), np.exp(logpdf_GAU_ND(vrow(XPlot), mu_ML, C_ML)))\n",
    "\n",
    "plt.show()"
   ]
  },
  {
   "cell_type": "code",
   "execution_count": null,
   "id": "19307066",
   "metadata": {},
   "outputs": [
    {
     "name": "stdout",
     "output_type": "stream",
     "text": [
      "-64279.27951448363\n"
     ]
    }
   ],
   "source": [
    "ll = loglikelyhood(X1D, mu_ML, C_ML)\n",
    "print(ll)"
   ]
  },
  {
   "cell_type": "code",
   "execution_count": null,
   "id": "13f3f383",
   "metadata": {},
   "outputs": [],
   "source": []
  }
 ],
 "metadata": {
  "kernelspec": {
   "display_name": ".venv",
   "language": "python",
   "name": "python3"
  },
  "language_info": {
   "codemirror_mode": {
    "name": "ipython",
    "version": 3
   },
   "file_extension": ".py",
   "mimetype": "text/x-python",
   "name": "python",
   "nbconvert_exporter": "python",
   "pygments_lexer": "ipython3",
   "version": "3.10.10"
  }
 },
 "nbformat": 4,
 "nbformat_minor": 5
}
