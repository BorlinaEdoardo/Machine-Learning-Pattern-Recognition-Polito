{
 "cells": [
  {
   "cell_type": "markdown",
   "id": "bc5ff1d5",
   "metadata": {},
   "source": [
    "# Laboratory 5 - Multivariate Gauessian Density\n",
    "In this laboratory we will focus on computing probability densities and ML estimates.\n",
    "\n",
    "The Multivariate Gaussian (MVG) density is defined as:\n",
    "\n",
    "$$\\displaystyle \\mathcal{N}(\\mathbf{x} | \\boldsymbol{\\mu}, \\boldsymbol{\\Sigma}) = \\frac{1}{(2\\pi)^{\\frac{M}{2}} |\\boldsymbol{\\Sigma}|^{\\frac{1}{2}}} \\exp\\left( -\\frac{1}{2} (\\mathbf{x} - \\boldsymbol{\\mu})^\\top \\boldsymbol{\\Sigma}^{-1} (\\mathbf{x} - \\boldsymbol{\\mu}) \\right)$$\n",
    "\n",
    "where M is the size of the feature vector x, and |Σ| is the determinant of Σ.\n",
    "To avoid numerical issues due to exponentiation of large numbers, in many practical cases it’s more\n",
    "convenient to work with the logarithm of the density\n",
    "\n",
    "$$\n",
    "\\log \\mathcal{N}(\\mathbf{x} | \\boldsymbol{\\mu}, \\boldsymbol{\\Sigma}) = -\\frac{M}{2} \\log 2\\pi - \\frac{1}{2} \\log |\\boldsymbol{\\Sigma}| - \\frac{1}{2} (\\mathbf{x} - \\boldsymbol{\\mu})^\\top \\boldsymbol{\\Sigma}^{-1} (\\mathbf{x} - \\boldsymbol{\\mu})\n",
    "$$\n",
    "\n",
    "Write a function to compute the log-density $\\texttt{logpdf\\_GAU\\_ND(x, mu, C)}$ for a sample $\\texttt{x}$.\n",
    " $\\texttt{mu}$ should be a numpy $\\texttt{array}$ of shape $\\texttt{(M, 1)}$, whereas $\\texttt{C}$ is a numpy $\\texttt{array}$ of shape $\\texttt{(M, M)}$ representing the covariance matrix $\\boldsymbol{\\Sigma}$.\n"
   ]
  },
  {
   "cell_type": "code",
   "execution_count": 3,
   "id": "42f364a5",
   "metadata": {},
   "outputs": [],
   "source": [
    "# Includes:\n",
    "import numpy as np\n",
    "import matplotlib.pyplot as plt\n",
    "import scipy.linalg as linalg\n",
    "import sklearn as sk\n",
    "\n",
    "# utility functions for the project\n",
    "def vcol(v):\n",
    "    return np.array(v).reshape(v.size, 1)\n",
    "\n",
    "def vrow(v):\n",
    "    return np.array(v).reshape(1, v.size)"
   ]
  },
  {
   "cell_type": "code",
   "execution_count": 14,
   "id": "8b66ea84",
   "metadata": {},
   "outputs": [],
   "source": [
    "def logpdf_GAU_ND(x, mu, C):\n",
    "    M = C.shape[0] # == C.shape[1] == mu.shape[0] == x.shape[0]\n",
    "    N = x.shape[1]\n",
    "    Y = np.zeros(M)\n",
    "    for i in range(N):\n",
    "        (sign, log_det_C) = np.linalg.slogdet(C)\n",
    "        print(-M/2*np.log(2*np.pi) - 0.5*log_det_C - 0.5*(x-mu).T@linalg.inv(C)@(x-mu))\n",
    "        Y[i] = -M/2*np.log(2*np.pi) - 0.5*log_det_C - 0.5*(x-mu).T@linalg.inv(C)@(x-mu)\n",
    "    return vcol(Y)"
   ]
  },
  {
   "cell_type": "markdown",
   "id": "8c41ec59",
   "metadata": {},
   "source": [
    "In the following we assume that logpdf_GAU_ND(X, mu, C) takes as input a data matrix X and returns\n",
    "a 1-D numpy array of log-densities Y . You can visualize your density"
   ]
  },
  {
   "cell_type": "code",
   "execution_count": 15,
   "id": "600d6184",
   "metadata": {},
   "outputs": [
    {
     "name": "stdout",
     "output_type": "stream",
     "text": [
      "[[-21.51551212 -21.47046708 -21.42542203 ...  23.39439779  23.43944283\n",
      "   23.48448788]\n",
      " [-21.47046708 -21.42552223 -21.38057739 ...  23.33954313  23.38448798\n",
      "   23.42943282]\n",
      " [-21.42542203 -21.38057739 -21.33573274 ...  23.28468848  23.32953312\n",
      "   23.37437777]\n",
      " ...\n",
      " [ 23.39439779  23.33954313  23.28468848 ... -31.2956927  -31.35054736\n",
      "  -31.40540201]\n",
      " [ 23.43944283  23.38448798  23.32953312 ... -31.35054736 -31.40550221\n",
      "  -31.46045707]\n",
      " [ 23.48448788  23.42943282  23.37437777 ... -31.40540201 -31.46045707\n",
      "  -31.51551212]]\n"
     ]
    },
    {
     "ename": "ValueError",
     "evalue": "setting an array element with a sequence.",
     "output_type": "error",
     "traceback": [
      "\u001b[1;31m---------------------------------------------------------------------------\u001b[0m",
      "\u001b[1;31mTypeError\u001b[0m                                 Traceback (most recent call last)",
      "\u001b[1;31mTypeError\u001b[0m: only length-1 arrays can be converted to Python scalars",
      "\nThe above exception was the direct cause of the following exception:\n",
      "\u001b[1;31mValueError\u001b[0m                                Traceback (most recent call last)",
      "Cell \u001b[1;32mIn[15], line 9\u001b[0m\n\u001b[0;32m      7\u001b[0m m \u001b[38;5;241m=\u001b[39m np\u001b[38;5;241m.\u001b[39mones((\u001b[38;5;241m1\u001b[39m,\u001b[38;5;241m1\u001b[39m)) \u001b[38;5;241m*\u001b[39m \u001b[38;5;241m1.0\u001b[39m\n\u001b[0;32m      8\u001b[0m C \u001b[38;5;241m=\u001b[39m np\u001b[38;5;241m.\u001b[39mones((\u001b[38;5;241m1\u001b[39m,\u001b[38;5;241m1\u001b[39m)) \u001b[38;5;241m*\u001b[39m \u001b[38;5;241m2.0\u001b[39m\n\u001b[1;32m----> 9\u001b[0m plt\u001b[38;5;241m.\u001b[39mplot(XPlot\u001b[38;5;241m.\u001b[39mravel(), np\u001b[38;5;241m.\u001b[39mexp(\u001b[43mlogpdf_GAU_ND\u001b[49m\u001b[43m(\u001b[49m\u001b[43mvrow\u001b[49m\u001b[43m(\u001b[49m\u001b[43mXPlot\u001b[49m\u001b[43m)\u001b[49m\u001b[43m,\u001b[49m\u001b[43m \u001b[49m\u001b[43mm\u001b[49m\u001b[43m,\u001b[49m\u001b[43m \u001b[49m\u001b[43mC\u001b[49m\u001b[43m)\u001b[49m))\n\u001b[0;32m     10\u001b[0m plt\u001b[38;5;241m.\u001b[39mshow()\n",
      "Cell \u001b[1;32mIn[14], line 8\u001b[0m, in \u001b[0;36mlogpdf_GAU_ND\u001b[1;34m(x, mu, C)\u001b[0m\n\u001b[0;32m      6\u001b[0m     (sign, log_det_C) \u001b[38;5;241m=\u001b[39m np\u001b[38;5;241m.\u001b[39mlinalg\u001b[38;5;241m.\u001b[39mslogdet(C)\n\u001b[0;32m      7\u001b[0m     \u001b[38;5;28mprint\u001b[39m(\u001b[38;5;241m-\u001b[39mM\u001b[38;5;241m/\u001b[39m\u001b[38;5;241m2\u001b[39m\u001b[38;5;241m*\u001b[39mnp\u001b[38;5;241m.\u001b[39mlog(\u001b[38;5;241m2\u001b[39m\u001b[38;5;241m*\u001b[39mnp\u001b[38;5;241m.\u001b[39mpi) \u001b[38;5;241m-\u001b[39m \u001b[38;5;241m0.5\u001b[39m\u001b[38;5;241m*\u001b[39mlog_det_C \u001b[38;5;241m-\u001b[39m \u001b[38;5;241m0.5\u001b[39m\u001b[38;5;241m*\u001b[39m(x\u001b[38;5;241m-\u001b[39mmu)\u001b[38;5;241m.\u001b[39mT\u001b[38;5;129m@linalg\u001b[39m\u001b[38;5;241m.\u001b[39minv(C)\u001b[38;5;241m@\u001b[39m(x\u001b[38;5;241m-\u001b[39mmu))\n\u001b[1;32m----> 8\u001b[0m     \u001b[43mY\u001b[49m\u001b[43m[\u001b[49m\u001b[43mi\u001b[49m\u001b[43m]\u001b[49m \u001b[38;5;241m=\u001b[39m \u001b[38;5;241m-\u001b[39mM\u001b[38;5;241m/\u001b[39m\u001b[38;5;241m2\u001b[39m\u001b[38;5;241m*\u001b[39mnp\u001b[38;5;241m.\u001b[39mlog(\u001b[38;5;241m2\u001b[39m\u001b[38;5;241m*\u001b[39mnp\u001b[38;5;241m.\u001b[39mpi) \u001b[38;5;241m-\u001b[39m \u001b[38;5;241m0.5\u001b[39m\u001b[38;5;241m*\u001b[39mlog_det_C \u001b[38;5;241m-\u001b[39m \u001b[38;5;241m0.5\u001b[39m\u001b[38;5;241m*\u001b[39m(x\u001b[38;5;241m-\u001b[39mmu)\u001b[38;5;241m.\u001b[39mT\u001b[38;5;129m@linalg\u001b[39m\u001b[38;5;241m.\u001b[39minv(C)\u001b[38;5;241m@\u001b[39m(x\u001b[38;5;241m-\u001b[39mmu)\n\u001b[0;32m      9\u001b[0m \u001b[38;5;28;01mreturn\u001b[39;00m vcol(Y)\n",
      "\u001b[1;31mValueError\u001b[0m: setting an array element with a sequence."
     ]
    },
    {
     "data": {
      "text/plain": [
       "<Figure size 640x480 with 0 Axes>"
      ]
     },
     "metadata": {},
     "output_type": "display_data"
    }
   ],
   "source": [
    "# visualization example\n",
    "mu = vcol(np.array([1]))\n",
    "C = vcol(np.array([2]))\n",
    "\n",
    "plt.figure()\n",
    "XPlot = np.linspace(-8, 12, 1000)\n",
    "m = np.ones((1,1)) * 1.0\n",
    "C = np.ones((1,1)) * 2.0\n",
    "plt.plot(XPlot.ravel(), np.exp(logpdf_GAU_ND(vrow(XPlot), m, C)))\n",
    "plt.show()"
   ]
  },
  {
   "cell_type": "markdown",
   "id": "62185553",
   "metadata": {},
   "source": []
  }
 ],
 "metadata": {
  "kernelspec": {
   "display_name": ".venv",
   "language": "python",
   "name": "python3"
  },
  "language_info": {
   "codemirror_mode": {
    "name": "ipython",
    "version": 3
   },
   "file_extension": ".py",
   "mimetype": "text/x-python",
   "name": "python",
   "nbconvert_exporter": "python",
   "pygments_lexer": "ipython3",
   "version": "3.10.10"
  }
 },
 "nbformat": 4,
 "nbformat_minor": 5
}
