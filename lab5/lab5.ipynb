{
 "cells": [
  {
   "cell_type": "markdown",
   "id": "bc5ff1d5",
   "metadata": {},
   "source": [
    "# Laboratory 5 - Multivariate Gauessian Density\n",
    "In this laboratory we will focus on computing probability densities and ML estimates.\n",
    "\n",
    "The Multivariate Gaussian (MVG) density is defined as:\n",
    "\n",
    "$$\\displaystyle \\mathcal{N}(\\mathbf{x} | \\boldsymbol{\\mu}, \\boldsymbol{\\Sigma}) = \\frac{1}{(2\\pi)^{\\frac{M}{2}} |\\boldsymbol{\\Sigma}|^{\\frac{1}{2}}} \\exp\\left( -\\frac{1}{2} (\\mathbf{x} - \\boldsymbol{\\mu})^\\top \\boldsymbol{\\Sigma}^{-1} (\\mathbf{x} - \\boldsymbol{\\mu}) \\right)$$\n",
    "\n",
    "where M is the size of the feature vector x, and |Σ| is the determinant of Σ.\n",
    "To avoid numerical issues due to exponentiation of large numbers, in many practical cases it’s more\n",
    "convenient to work with the logarithm of the density\n",
    "\n",
    "$$\n",
    "\\log \\mathcal{N}(\\mathbf{x} | \\boldsymbol{\\mu}, \\boldsymbol{\\Sigma}) = -\\frac{M}{2} \\log 2\\pi - \\frac{1}{2} \\log |\\boldsymbol{\\Sigma}| - \\frac{1}{2} (\\mathbf{x} - \\boldsymbol{\\mu})^\\top \\boldsymbol{\\Sigma}^{-1} (\\mathbf{x} - \\boldsymbol{\\mu})\n",
    "$$\n",
    "\n",
    "Write a function to compute the log-density $\\texttt{logpdf\\_GAU\\_ND(x, mu, C)}$ for a sample $\\texttt{x}$.\n",
    " $\\texttt{mu}$ should be a numpy $\\texttt{array}$ of shape $\\texttt{(M, 1)}$, whereas $\\texttt{C}$ is a numpy $\\texttt{array}$ of shape $\\texttt{(M, M)}$ representing the covariance matrix $\\boldsymbol{\\Sigma}$.\n"
   ]
  },
  {
   "cell_type": "code",
   "execution_count": 85,
   "id": "42f364a5",
   "metadata": {},
   "outputs": [],
   "source": [
    "# Includes:\n",
    "import numpy as np\n",
    "import matplotlib.pyplot as plt\n",
    "import scipy.linalg as linalg\n",
    "import sklearn as sk\n",
    "\n",
    "# utility functions for the project\n",
    "def vcol(v):\n",
    "    return np.array(v).reshape(v.size, 1)\n",
    "\n",
    "def vrow(v):\n",
    "    return np.array(v).reshape(1, v.size)"
   ]
  },
  {
   "cell_type": "code",
   "execution_count": 86,
   "id": "8b66ea84",
   "metadata": {},
   "outputs": [],
   "source": [
    "def logpdf_GAU_ND(x, mu, C):\n",
    "    M = C.shape[0] # == C.shape[1] == mu.shape[0] == x.shape[0]\n",
    "    N = x.shape[1]\n",
    "    Y = np.zeros(N)  # Initialize Y with size N\n",
    "    for i in range(N):\n",
    "        (sign, log_det_C) = np.linalg.slogdet(C)\n",
    "        x_i = vcol(x[:,i])\n",
    "        Y[i] = (-M/2*np.log(2*np.pi) - 0.5*log_det_C - 0.5*(x_i-mu).T@linalg.inv(C)@(x_i-mu)).item()\n",
    "    return vcol(Y)"
   ]
  },
  {
   "cell_type": "markdown",
   "id": "8c41ec59",
   "metadata": {},
   "source": [
    "In the following we assume that logpdf_GAU_ND(X, mu, C) takes as input a data matrix X and returns\n",
    "a 1-D numpy array of log-densities Y . You can visualize your density"
   ]
  },
  {
   "cell_type": "code",
   "execution_count": 90,
   "id": "600d6184",
   "metadata": {},
   "outputs": [
    {
     "data": {
      "image/png": "[encoded data removed]",
      "text/plain": [
       "<Figure size 640x480 with 1 Axes>"
      ]
     },
     "metadata": {},
     "output_type": "display_data"
    }
   ],
   "source": [
    "# visualization example\n",
    "\n",
    "plt.figure()\n",
    "XPlot = np.linspace(-8, 12, 1000)\n",
    "m = np.ones((1,1)) * 1.0\n",
    "C = np.ones((1,1)) * 2.0\n",
    "plt.plot(XPlot.ravel(), np.exp(logpdf_GAU_ND(vrow(XPlot), m, C)))\n",
    "plt.show()"
   ]
  },
  {
   "cell_type": "code",
   "execution_count": 91,
   "id": "dba47fd3",
   "metadata": {},
   "outputs": [
    {
     "name": "stdout",
     "output_type": "stream",
     "text": [
      "0.0\n"
     ]
    }
   ],
   "source": [
    "# Validation test\n",
    "pdfSol = np.load('./llGAU.npy')\n",
    "\n",
    "pdfGau = logpdf_GAU_ND(vrow(XPlot), m, C)\n",
    "print(np.abs(vcol(pdfSol) - pdfGau).max())"
   ]
  },
  {
   "cell_type": "code",
   "execution_count": 92,
   "id": "248b144a",
   "metadata": {},
   "outputs": [
    {
     "name": "stdout",
     "output_type": "stream",
     "text": [
      "8.881784197001252e-16\n"
     ]
    }
   ],
   "source": [
    "XND = np.load('./XND.npy')\n",
    "mu = np.load('./muND.npy')\n",
    "C = np.load('./CND.npy')\n",
    "pdfSol = np.load('./llND.npy')\n",
    "pdfGau = logpdf_GAU_ND(XND, mu, C)\n",
    "print(np.abs(vcol(pdfSol) - pdfGau).max())"
   ]
  },
  {
   "cell_type": "markdown",
   "id": "62185553",
   "metadata": {},
   "source": []
  }
 ],
 "metadata": {
  "kernelspec": {
   "display_name": ".venv",
   "language": "python",
   "name": "python3"
  },
  "language_info": {
   "codemirror_mode": {
    "name": "ipython",
    "version": 3
   },
   "file_extension": ".py",
   "mimetype": "text/x-python",
   "name": "python",
   "nbconvert_exporter": "python",
   "pygments_lexer": "ipython3",
   "version": "3.10.10"
  }
 },
 "nbformat": 4,
 "nbformat_minor": 5
}
