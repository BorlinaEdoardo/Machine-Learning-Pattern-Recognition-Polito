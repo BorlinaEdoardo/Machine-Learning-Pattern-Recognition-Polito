{
 "cells": [
  {
   "cell_type": "markdown",
   "id": "e9b1148a",
   "metadata": {},
   "source": [
    "# boh roba"
   ]
  },
  {
   "cell_type": "code",
   "execution_count": 2,
   "id": "e77d7770",
   "metadata": {},
   "outputs": [],
   "source": [
    "# inclusion\n",
    "import sklearn.datasets\n",
    "import numpy as np\n",
    "import matplotlib.pyplot as plt\n",
    "import scipy.linalg as linalg\n",
    "import sklearn as sk"
   ]
  },
  {
   "cell_type": "code",
   "execution_count": 3,
   "id": "c2a0c1a5",
   "metadata": {},
   "outputs": [],
   "source": [
    "# utility functions\n",
    "\n",
    "def load_iris():\n",
    "    D,L = sklearn.datasets.load_iris()['data'].T, sklearn.datasets.load_iris()['target']\n",
    "    return D, L\n",
    "\n",
    "def vcol(v):\n",
    "    return np.array(v).reshape(v.size, 1)\n",
    "\n",
    "def vrow(v):\n",
    "    return np.array(v).reshape(1, v.size)"
   ]
  },
  {
   "cell_type": "code",
   "execution_count": 4,
   "id": "b4134745",
   "metadata": {},
   "outputs": [],
   "source": [
    "#split\n",
    "def split(D, L, seed=0):\n",
    "    nTrain = int(D.shape[1]*2.0/3.0)\n",
    "    np.random.seed(seed)\n",
    "    idx = np.random.permutation(D.shape[1])\n",
    "    idxTrain = idx[0:nTrain]\n",
    "    idxTest = idx[nTrain:]\n",
    "    DTR = D[:, idxTrain]\n",
    "    DTE = D[:, idxTest]\n",
    "    LTR = L[idxTrain]\n",
    "    LTE = L[idxTest]\n",
    "    return (DTR, LTR), (DTE, LTE)"
   ]
  },
  {
   "cell_type": "code",
   "execution_count": 5,
   "id": "fd56ef6e",
   "metadata": {},
   "outputs": [],
   "source": [
    "D, L = load_iris()\n",
    "(DTR, LTR), (DTE, LTE) = split(D, L)"
   ]
  },
  {
   "cell_type": "code",
   "execution_count": 17,
   "id": "3fd4fa20",
   "metadata": {},
   "outputs": [
    {
     "name": "stdout",
     "output_type": "stream",
     "text": [
      "mu_0: [[4.96129032]\n",
      " [3.42903226]\n",
      " [1.46451613]\n",
      " [0.2483871 ]]\n",
      "C_0:[[0.13140479 0.11370447 0.02862643 0.01187305]\n",
      " [0.11370447 0.16270552 0.01844953 0.01117586]\n",
      " [0.02862643 0.01844953 0.03583767 0.00526535]\n",
      " [0.01187305 0.01117586 0.00526535 0.0108845 ]]\n",
      "\n",
      "mu_1: [[5.91212121]\n",
      " [2.78484848]\n",
      " [4.27272727]\n",
      " [1.33939394]]\n",
      "C_1:[[0.26470156 0.09169881 0.18366391 0.05134068]\n",
      " [0.09169881 0.10613407 0.08898072 0.04211203]\n",
      " [0.18366391 0.08898072 0.21955923 0.06289256]\n",
      " [0.05134068 0.04211203 0.06289256 0.03208448]]\n",
      "\n",
      "mu_2: [[6.45555556]\n",
      " [2.92777778]\n",
      " [5.41944444]\n",
      " [1.98888889]]\n",
      "C_2:[[0.30080247 0.08262346 0.18614198 0.04311728]\n",
      " [0.08262346 0.08533951 0.06279321 0.05114198]\n",
      " [0.18614198 0.06279321 0.18434414 0.04188272]\n",
      " [0.04311728 0.05114198 0.04188272 0.0804321 ]]\n",
      "\n"
     ]
    }
   ],
   "source": [
    "# Max Likelihood parameters:\n",
    "Nc = np.unique(LTR).size\n",
    "mu = np.zeros((4,Nc))\n",
    "for c in range(Nc):\n",
    "    DTR_c = DTR[:, LTR == c]\n",
    "    mu = vcol(DTR_c.mean(axis=1))\n",
    "    C = ((DTR_c-mu)@(DTR_c-mu).T)/DTR_c.shape[1]\n",
    "    print(f\"mu_{c}: {mu}\\nC_{c}:{C}\\n\")"
   ]
  },
  {
   "cell_type": "code",
   "execution_count": null,
   "id": "a26498c8",
   "metadata": {},
   "outputs": [],
   "source": []
  }
 ],
 "metadata": {
  "kernelspec": {
   "display_name": ".venv",
   "language": "python",
   "name": "python3"
  },
  "language_info": {
   "codemirror_mode": {
    "name": "ipython",
    "version": 3
   },
   "file_extension": ".py",
   "mimetype": "text/x-python",
   "name": "python",
   "nbconvert_exporter": "python",
   "pygments_lexer": "ipython3",
   "version": "3.10.10"
  }
 },
 "nbformat": 4,
 "nbformat_minor": 5
}
