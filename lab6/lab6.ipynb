{
 "cells": [
  {
   "cell_type": "markdown",
   "id": "e9b1148a",
   "metadata": {},
   "source": [
    "# boh roba"
   ]
  },
  {
   "cell_type": "code",
   "execution_count": 1,
   "id": "e77d7770",
   "metadata": {},
   "outputs": [],
   "source": [
    "# inclusion\n",
    "import sklearn.datasets\n",
    "import numpy as np\n",
    "import matplotlib.pyplot as plt\n",
    "import scipy.linalg as linalg\n",
    "import sklearn as sk"
   ]
  },
  {
   "cell_type": "code",
   "execution_count": 2,
   "id": "c2a0c1a5",
   "metadata": {},
   "outputs": [],
   "source": [
    "# utility functions\n",
    "\n",
    "def load_iris():\n",
    "    D,L = sklearn.datasets.load_iris()['data'].T, sklearn.datasets.load_iris()['target']\n",
    "    return D, L\n",
    "\n",
    "def vcol(v):\n",
    "    return np.array(v).reshape(v.size, 1)\n",
    "\n",
    "def vrow(v):\n",
    "    return np.array(v).reshape(1, v.size)\n",
    "\n",
    "\n",
    "# from lab5\n",
    "def logpdf_GAU_ND(x, mu, C):\n",
    "    M = C.shape[0] # == C.shape[1] == mu.shape[0] == x.shape[0]\n",
    "    N = x.shape[1]\n",
    "    Y = np.zeros(N)  \n",
    "    for i in range(N):\n",
    "        (sign, log_det_C) = np.linalg.slogdet(C)\n",
    "        x_i = vcol(x[:,i])\n",
    "        Y[i] = (-M/2*np.log(2*np.pi) - 0.5*sign*log_det_C - 0.5*(x_i-mu).T@linalg.inv(C)@(x_i-mu)).item()\n",
    "    return vcol(Y)\n",
    "\n",
    "def loglikelyhood(x, mu, C):\n",
    "    Y = logpdf_GAU_ND(x, mu, C)\n",
    "    return Y.sum()"
   ]
  },
  {
   "cell_type": "code",
   "execution_count": 3,
   "id": "b4134745",
   "metadata": {},
   "outputs": [],
   "source": [
    "#split\n",
    "def split(D, L, seed=0):\n",
    "    nTrain = int(D.shape[1]*2.0/3.0)\n",
    "    np.random.seed(seed)\n",
    "    idx = np.random.permutation(D.shape[1])\n",
    "    idxTrain = idx[0:nTrain]\n",
    "    idxTest = idx[nTrain:]\n",
    "    DTR = D[:, idxTrain]\n",
    "    DTE = D[:, idxTest]\n",
    "    LTR = L[idxTrain]\n",
    "    LTE = L[idxTest]\n",
    "    return (DTR, LTR), (DTE, LTE)"
   ]
  },
  {
   "cell_type": "code",
   "execution_count": 4,
   "id": "fd56ef6e",
   "metadata": {},
   "outputs": [],
   "source": [
    "D, L = load_iris()\n",
    "(DTR, LTR), (DTE, LTE) = split(D, L)"
   ]
  },
  {
   "cell_type": "code",
   "execution_count": 5,
   "id": "3fd4fa20",
   "metadata": {},
   "outputs": [
    {
     "name": "stdout",
     "output_type": "stream",
     "text": [
      "mu_0: [4.96129032 3.42903226 1.46451613 0.2483871 ]\n",
      "C_0:[[0.13140479 0.11370447 0.02862643 0.01187305]\n",
      " [0.11370447 0.16270552 0.01844953 0.01117586]\n",
      " [0.02862643 0.01844953 0.03583767 0.00526535]\n",
      " [0.01187305 0.01117586 0.00526535 0.0108845 ]]\n",
      "\n",
      "mu_1: [5.91212121 2.78484848 4.27272727 1.33939394]\n",
      "C_1:[[0.26470156 0.09169881 0.18366391 0.05134068]\n",
      " [0.09169881 0.10613407 0.08898072 0.04211203]\n",
      " [0.18366391 0.08898072 0.21955923 0.06289256]\n",
      " [0.05134068 0.04211203 0.06289256 0.03208448]]\n",
      "\n",
      "mu_2: [6.45555556 2.92777778 5.41944444 1.98888889]\n",
      "C_2:[[0.30080247 0.08262346 0.18614198 0.04311728]\n",
      " [0.08262346 0.08533951 0.06279321 0.05114198]\n",
      " [0.18614198 0.06279321 0.18434414 0.04188272]\n",
      " [0.04311728 0.05114198 0.04188272 0.0804321 ]]\n",
      "\n"
     ]
    }
   ],
   "source": [
    "# Max Likelihood parameters:\n",
    "Nc = np.unique(LTR).size\n",
    "mu = np.zeros((4,Nc))\n",
    "C = np.zeros((4, 4, Nc))\n",
    "l = np.zeros(Nc) \n",
    "for c in range(Nc):\n",
    "    DTR_c = DTR[:, LTR == c]\n",
    "    mu[:,c] = DTR_c.mean(axis=1)\n",
    "    C[:,:,c] = ((DTR_c - vcol(mu[:,c])) @ (DTR_c - vcol(mu[:,c])).T) / DTR_c.shape[1]\n",
    "    l[c] = np.exp(loglikelyhood(DTR_c, vcol(mu[:,c]), C[:,:,c]))\n",
    "    print(f\"mu_{c}: {mu[:,c]}\\nC_{c}:{C[:,:,c]}\\n\")"
   ]
  },
  {
   "cell_type": "code",
   "execution_count": 6,
   "id": "a26498c8",
   "metadata": {},
   "outputs": [
    {
     "name": "stdout",
     "output_type": "stream",
     "text": [
      "likelihood:  [7.53645059e+10 5.02921185e-03 1.17632117e-13]\n"
     ]
    }
   ],
   "source": [
    "# likelihood:\n",
    "print(\"likelihood: \",l)\n",
    "\n",
    "# Score matrix\n",
    "S = np.zeros((Nc,  DTE.shape[1])) # 3 classes, 50 values \n",
    "\n",
    "for c in range(Nc):\n",
    "    S[c,:] = np.exp(logpdf_GAU_ND(DTE, vcol(mu[:,c]), C[:,:,c]).T)\n",
    "\n",
    "# print(f\"\\n Score matrix:\\n{S}\")"
   ]
  },
  {
   "cell_type": "code",
   "execution_count": 7,
   "id": "93819fc0",
   "metadata": {},
   "outputs": [
    {
     "name": "stdout",
     "output_type": "stream",
     "text": [
      "err:  3.1551066431862095e-12 \n",
      "\n"
     ]
    }
   ],
   "source": [
    "SJoint = 1/3*S\n",
    "Sol_SJOINT = np.load(\"./SJoint_MVG.npy\")\n",
    "\n",
    "err = (np.absolute(SJoint-Sol_SJOINT)/Sol_SJOINT).sum(0).sum()\n",
    "print(\"err: \", err, \"\\n\")"
   ]
  },
  {
   "cell_type": "code",
   "execution_count": 8,
   "id": "2a2b29f8",
   "metadata": {},
   "outputs": [
    {
     "name": "stdout",
     "output_type": "stream",
     "text": [
      "[0 0 1 2 2 0 0 0 1 1 0 0 1 0 2 1 2 1 0 2 0 2 0 0 2 0 2 1 1 1 2 2 2 1 0 1 2\n",
      " 2 0 1 1 2 1 0 0 0 2 1 2 0]\n"
     ]
    }
   ],
   "source": [
    "SMarginal = vrow(SJoint.sum(0))\n",
    "\n",
    "SPost = SJoint/SMarginal\n",
    "\n",
    "Pred = np.argmax(SPost, axis=0)\n",
    "print(Pred)"
   ]
  },
  {
   "cell_type": "code",
   "execution_count": 9,
   "id": "230cd85e",
   "metadata": {},
   "outputs": [
    {
     "name": "stdout",
     "output_type": "stream",
     "text": [
      "Error: 4.0000000000000036%\n",
      "Accuracy: 96.0%\n"
     ]
    }
   ],
   "source": [
    "# Method 1 (Creative method)\n",
    "tmp = (Pred - LTE)\n",
    "tmp = tmp[tmp != 0]\n",
    "#print(tmp)\n",
    "wrong = (tmp/tmp).sum()\n",
    "err = wrong/LTE.size\n",
    "\n",
    "\n",
    "# Method 2\n",
    "correct = (Pred == LTE).sum()\n",
    "#print(correct)\n",
    "acc = correct/LTE.size\n",
    "\n",
    "print(f\"Error: {(1-acc)*100}%\\nAccuracy: {(acc)*100}%\")"
   ]
  },
  {
   "cell_type": "code",
   "execution_count": 10,
   "id": "839b9184",
   "metadata": {},
   "outputs": [],
   "source": [
    "# Re-do everithing using the log-values (I hate everithing)\n",
    "# Score matrix\n",
    "SLog = np.zeros((Nc,  DTE.shape[1])) # 3 classes, 50 values \n",
    "\n",
    "for c in range(Nc):\n",
    "    SLog[c,:] = (logpdf_GAU_ND(DTE, vcol(mu[:,c]), C[:,:,c]).T)"
   ]
  },
  {
   "cell_type": "code",
   "execution_count": 11,
   "id": "3845b2da",
   "metadata": {},
   "outputs": [
    {
     "name": "stdout",
     "output_type": "stream",
     "text": [
      "err:  9.324424924327251e-14\n"
     ]
    }
   ],
   "source": [
    "LogSJoint = np.log(1/3)+SLog\n",
    "Sol_LogSJOINT = np.load(\"./logSJoint_MVG.npy\")\n",
    "\n",
    "err = np.absolute((LogSJoint-Sol_LogSJOINT)/Sol_LogSJOINT).sum(0).sum()\n",
    "print(\"err: \", err, )"
   ]
  },
  {
   "cell_type": "code",
   "execution_count": null,
   "id": "60c25ec7",
   "metadata": {},
   "outputs": [],
   "source": [
    "i_l = vcol(np.argmax(LogSJoint.sum(1), axis=0)).item()\n",
    "i_l_sus = (np.argmax(LogSJoint, axis=1))\n",
    "l = vcol(LogSJoint[:,i_l])\n",
    "LogMarginal = np.log(np.exp(np.delete(LogSJoint, i_l, axis=1)).sum(axis=0)) # doesn't work :("
   ]
  },
  {
   "cell_type": "code",
   "execution_count": 13,
   "id": "98fa9669",
   "metadata": {},
   "outputs": [],
   "source": [
    "LogPost = LogSJoint-np.log(np.exp(LogSJoint).sum(axis=0))"
   ]
  },
  {
   "cell_type": "code",
   "execution_count": 17,
   "id": "be461e88",
   "metadata": {},
   "outputs": [
    {
     "name": "stdout",
     "output_type": "stream",
     "text": [
      "-2.7792891585087076e-12\n"
     ]
    }
   ],
   "source": [
    "sol = np.load(\"./logPosterior_MVG.npy\")\n",
    "\n",
    "err =((np.exp(LogPost)-np.exp(sol))/np.exp(sol)).sum()\n",
    "\n",
    "print(err)"
   ]
  },
  {
   "cell_type": "code",
   "execution_count": null,
   "id": "8c41b84a",
   "metadata": {},
   "outputs": [],
   "source": []
  },
  {
   "cell_type": "code",
   "execution_count": null,
   "id": "c7be2d4b",
   "metadata": {},
   "outputs": [
    {
     "data": {
      "text/plain": [
       "(49,)"
      ]
     },
     "execution_count": 72,
     "metadata": {},
     "output_type": "execute_result"
    }
   ],
   "source": []
  },
  {
   "cell_type": "code",
   "execution_count": null,
   "id": "10d04ab6",
   "metadata": {},
   "outputs": [],
   "source": []
  }
 ],
 "metadata": {
  "kernelspec": {
   "display_name": ".venv",
   "language": "python",
   "name": "python3"
  },
  "language_info": {
   "codemirror_mode": {
    "name": "ipython",
    "version": 3
   },
   "file_extension": ".py",
   "mimetype": "text/x-python",
   "name": "python",
   "nbconvert_exporter": "python",
   "pygments_lexer": "ipython3",
   "version": "3.10.10"
  }
 },
 "nbformat": 4,
 "nbformat_minor": 5
}
