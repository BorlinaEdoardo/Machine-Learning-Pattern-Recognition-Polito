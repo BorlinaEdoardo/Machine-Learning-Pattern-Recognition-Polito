{
 "cells": [
  {
   "cell_type": "code",
   "execution_count": 3,
   "id": "de43d8db",
   "metadata": {},
   "outputs": [
    {
     "name": "stdout",
     "output_type": "stream",
     "text": [
      "res1:  [[2.723]] \n",
      "\n",
      "res2:  [[-3.892]]\n"
     ]
    }
   ],
   "source": [
    "# Various stuff\n",
    "import numpy as np\n",
    "\n",
    "x1 = np.array([2,10, 12, 0, 1, 1, 0])\n",
    "b = np.array([0.837, 0.165, -0.052, -1.754, 2.182, -2.159, -0.283])\n",
    "\n",
    "res1 = x1.reshape((1, 7))@b.reshape((7, 1))\n",
    "print(\"res1: \", res1, \"\\n\")\n",
    "\n",
    "x2 = np.array([2, 18, 16, 3, 0, 1, 1])\n",
    "res2 = x2.reshape((1, 7))@b.reshape((7, 1))\n",
    "print(\"res2: \", res2)"
   ]
  },
  {
   "cell_type": "code",
   "execution_count": 4,
   "id": "482c4e40",
   "metadata": {},
   "outputs": [],
   "source": [
    "# inclusion\n",
    "import sklearn.datasets\n",
    "import numpy as np\n",
    "import matplotlib.pyplot as plt\n",
    "import scipy.linalg as linalg\n",
    "import sklearn as sk\n",
    "from Data.load import load_data, split_data\n",
    "\n",
    "\n"
   ]
  },
  {
   "cell_type": "code",
   "execution_count": 5,
   "id": "acf01083",
   "metadata": {},
   "outputs": [],
   "source": [
    "#dataset import\n",
    "\n",
    "lInf, lPur, lPar = load_data()\n",
    "\n",
    "lInf_train, lInf_evaluation = split_data(lInf, 4)\n",
    "lPur_train, lPur_evaluation = split_data(lPur, 4)\n",
    "lPar_train, lPar_evaluation = split_data(lPar, 4)"
   ]
  },
  {
   "cell_type": "code",
   "execution_count": 11,
   "id": "981e9765",
   "metadata": {},
   "outputs": [],
   "source": [
    "def vcol(v):\n",
    "    return np.array(v).reshape(v.size, 1)\n",
    "\n",
    "def vrow(v):\n",
    "    return np.array(v).reshape(1, v.size)\n"
   ]
  },
  {
   "cell_type": "code",
   "execution_count": 6,
   "id": "fe137afb",
   "metadata": {},
   "outputs": [],
   "source": [
    "pi_inf = {}\n",
    "pi_pur = {}\n",
    "pi_par = {}\n",
    "\n",
    "for line in lInf_train:\n",
    "    for word in line.split():\n",
    "        if word in pi_inf:\n",
    "            pi_inf[word] += 1\n",
    "        else:\n",
    "            pi_inf[word] = 1\n",
    "\n",
    "for line in lPur_train:\n",
    "    for word in line.split():\n",
    "        if word in pi_pur:\n",
    "            pi_pur[word] += 1\n",
    "        else:\n",
    "            pi_pur[word] = 1\n",
    "\n",
    "for line in lPar_train:\n",
    "    for word in line.split():\n",
    "        if word in pi_par:\n",
    "            pi_par[word] += 1\n",
    "        else:\n",
    "            pi_par[word] = 1\n",
    "\n",
    "pi_inf = {k: v / len(lInf_train) for k, v in pi_inf.items()}\n",
    "pi_pur = {k: v / len(lPur_train) for k, v in pi_pur.items()}\n",
    "pi_par = {k: v / len(lPar_train) for k, v in pi_par.items()}"
   ]
  },
  {
   "cell_type": "code",
   "execution_count": 7,
   "id": "05021b60",
   "metadata": {},
   "outputs": [],
   "source": [
    "# compute the log likwlihood\n",
    "def loglikelihood(tercet, pi, xi):\n",
    "    l = 0\n",
    "    for word in tercet.split():\n",
    "        if(word in pi):\n",
    "            l += np.log(pi[word]+xi)\n",
    "            \n",
    "    return l"
   ]
  },
  {
   "cell_type": "code",
   "execution_count": 15,
   "id": "8bd32b36",
   "metadata": {},
   "outputs": [
    {
     "name": "stdout",
     "output_type": "stream",
     "text": [
      "accuracy for inferno: 55.75%\n"
     ]
    }
   ],
   "source": [
    "# test inferno\n",
    "S = np.zeros((3, len(lInf_evaluation)))\n",
    "i = 0\n",
    "\n",
    "for  tercet in lInf_evaluation:\n",
    "    # inferno\n",
    "    S[0, i] = loglikelihood(tercet, pi_inf, 1)\n",
    "    # purgatorio\n",
    "    S[1, i] = loglikelihood(tercet, pi_pur, 1)\n",
    "    # paradiso\n",
    "    S[2, i] = loglikelihood(tercet, pi_par, 1)\n",
    "\n",
    "    i += 1\n",
    "\n",
    "S_joint = np.exp(S)*1/3\n",
    "S_marginal = vrow(S_joint.sum(0))\n",
    "S_post = S_joint/S_marginal\n",
    "\n",
    "Pred = np.argmax(S_post, axis=0)\n",
    "accuracy = Pred[Pred == 0].shape[0]/Pred.shape[0]\n",
    "print(f\"accuracy for inferno: {accuracy*100}%\")"
   ]
  },
  {
   "cell_type": "code",
   "execution_count": 13,
   "id": "76ff20ca",
   "metadata": {},
   "outputs": [
    {
     "data": {
      "text/plain": [
       "array([[0.33531364, 0.34242093, 0.33033242, ..., 0.3216317 , 0.33702314,\n",
       "        0.33333333],\n",
       "       [0.3300206 , 0.3301564 , 0.33022889, ..., 0.3351709 , 0.32088087,\n",
       "        0.33333333],\n",
       "       [0.33466576, 0.32742268, 0.33943869, ..., 0.3431974 , 0.34209599,\n",
       "        0.33333333]], shape=(3, 400))"
      ]
     },
     "execution_count": 13,
     "metadata": {},
     "output_type": "execute_result"
    }
   ],
   "source": [
    "S_post"
   ]
  },
  {
   "cell_type": "code",
   "execution_count": null,
   "id": "3e8b7eb8",
   "metadata": {},
   "outputs": [
    {
     "data": {
      "text/plain": [
       "400"
      ]
     },
     "execution_count": 10,
     "metadata": {},
     "output_type": "execute_result"
    }
   ],
   "source": []
  },
  {
   "cell_type": "code",
   "execution_count": null,
   "id": "9a62dc95",
   "metadata": {},
   "outputs": [],
   "source": []
  }
 ],
 "metadata": {
  "kernelspec": {
   "display_name": ".venv",
   "language": "python",
   "name": "python3"
  },
  "language_info": {
   "codemirror_mode": {
    "name": "ipython",
    "version": 3
   },
   "file_extension": ".py",
   "mimetype": "text/x-python",
   "name": "python",
   "nbconvert_exporter": "python",
   "pygments_lexer": "ipython3",
   "version": "3.10.10"
  }
 },
 "nbformat": 4,
 "nbformat_minor": 5
}
